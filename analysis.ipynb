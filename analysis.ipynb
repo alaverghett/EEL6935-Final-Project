{
 "metadata": {
  "language_info": {
   "codemirror_mode": {
    "name": "ipython",
    "version": 3
   },
   "file_extension": ".py",
   "mimetype": "text/x-python",
   "name": "python",
   "nbconvert_exporter": "python",
   "pygments_lexer": "ipython3",
   "version": "3.8.5-final"
  },
  "orig_nbformat": 2,
  "kernelspec": {
   "name": "python3",
   "display_name": "Python 3"
  }
 },
 "nbformat": 4,
 "nbformat_minor": 2,
 "cells": [
  {
   "cell_type": "code",
   "execution_count": 3,
   "metadata": {},
   "outputs": [],
   "source": [
    "import os\n",
    "import re\n",
    "from os import  walk\n",
    "from os import path\n",
    "import matplotlib.pyplot as plt\n",
    "from statistics import mean\n",
    "%matplotlib inline"
   ]
  },
  {
   "cell_type": "code",
   "execution_count": 2,
   "metadata": {},
   "outputs": [],
   "source": [
    "update_pattern = r'[U][p][d][a][t][e][s] [0-9]*'\n",
    "success_pattern = r'[s][u][c][c][e][s][s] [r][a][t][e] [0-9].[0-9][0-9]'\n",
    "mean_pattern = r'[m][e][a][n][/][m][e][d][i][a][n] [r][e][w][a][r][d] [0-9].[0-9][0-9]'"
   ]
  },
  {
   "cell_type": "code",
   "execution_count": 5,
   "metadata": {},
   "outputs": [
    {
     "output_type": "stream",
     "name": "stdout",
     "text": [
      "trained_models\na2c-MiniWorld-Maze-v0-lr=0.00005-num_steps=160\nMin: 0.0\nMax: 0.13\nMean: 0.05186939820742638\n==================================================\n\n\n\na2c-MiniWorld-Maze-vo-lr=0.005-num_steps=200\nMin: 0.01\nMax: 0.14\nMean: 0.05348557692307693\n==================================================\n\n\n\na2c-MiniWorld-MazeS2-v0-lr=0.00005-num_steps=160\nMin: 0.07\nMax: 0.86\nMean: 0.5170588235294118\n==================================================\n\n\n\na2c-MiniWorld-MazeS2-v0-lr=0.005-num_steps=250\nMin: 0.0\nMax: 0.14\nMean: 0.053871829105473966\n==================================================\n\n\n\na2c-MiniWorld-MazeS3-v0-lr=0.00005-num_steps=160\nMin: 0.04\nMax: 0.53\nMean: 0.26523687580025607\n==================================================\n\n\n\na2c-MiniWorld-Sidewalk-v0-lr=0.00005-num_steps=160\nMin: 0.0\nMax: 0.0\nMean: 0.0\n==================================================\n\n\n\na2c-MinWorld-Maze-v0-lr=0.0005-num_stpes=200\nMin: 0.0\nMax: 0.2\nMean: 0.07163461538461538\n==================================================\n\n\n\nppo-MiniWorld-Maze-v0-lr=0.00005-num_steps=160\nMin: 0.0\nMax: 0.09\nMean: 0.014865350089766607\n==================================================\n\n\n\nppo-MiniWorld-MazeS2-v0-lr=0.00005-num_steps=160\nMin: 0.08\nMax: 0.79\nMean: 0.5600895140664962\n==================================================\n\n\n\nppo-MiniWorld-MazeS3Fast-v0-lr=0.00005-num_steps=160\nMin: 0.48\nMax: 1.0\nMean: 0.6960102301790281\n==================================================\n\n\n\n"
     ]
    }
   ],
   "source": [
    "i = 0\n",
    "for (dirpath, dirnames, filenames) in walk(\"Z:/Code/gym-miniworld/pytorch-a2c-ppo-acktr/trained_models\"):\n",
    "    dirpath = path.basename(dirpath)\n",
    "    print(dirpath)\n",
    "    updates = []\n",
    "    mean_reward = []\n",
    "    success_rate = []\n",
    "    if i == 0:\n",
    "        i+=1\n",
    "        continue\n",
    "    log = open(dirpath + \"/log.txt\",'r')\n",
    "    log = log.readlines()\n",
    "    l = \"\"\n",
    "    for i,lin in enumerate(log):\n",
    "        l = l + lin\n",
    "        # print(lin)\n",
    "    updates = re.findall(update_pattern,l)\n",
    "    mean_reward = re.findall(mean_pattern,l)\n",
    "    success_rate = re.findall(success_pattern,l)\n",
    "\n",
    "    updates = [int(u.split(' ')[1]) for u in updates]\n",
    "    mean_reward = [float(u.split(' ')[2]) for u in mean_reward]\n",
    "    success_rate = [float(u.split(' ')[2]) for u in success_rate]\n",
    "    print(f\"Min: {min(success_rate)}\")\n",
    "    print(f\"Max: {max(success_rate)}\")\n",
    "    print(f\"Mean: {mean(success_rate)}\")\n",
    "    print(\"=\"*50)\n",
    "    print(\"\\n\\n\")\n",
    "    # plt.plot(updates,success_rate)\n",
    "    # plt.plot(updates,mean_reward)\n",
    "    # plt.xlabel(\"Time Step\")\n",
    "    # plt.ylabel(\"Success Rate/Mean Reward\")\n",
    "    # plt.title(f\"{dirpath}\")\n",
    "    # plt.savefig(f\"{dirpath}.png\",format=\"png\")\n",
    "    # plt.clf()\n",
    "\n",
    "\n"
   ]
  },
  {
   "cell_type": "code",
   "execution_count": null,
   "metadata": {},
   "outputs": [],
   "source": []
  }
 ]
}